{
 "cells": [
  {
   "cell_type": "markdown",
   "metadata": {},
   "source": [
    "# YahooのYahoo! Finance APIを利用して株価予測\n",
    "\n",
    "ライブラリインストール  \n",
    "!pip install yfinance  \n",
    "!pip install yahoo-finance-api2"
   ]
  },
  {
   "cell_type": "code",
   "execution_count": 2,
   "metadata": {},
   "outputs": [],
   "source": [
    "from yahoo_finance_api2 import share\n",
    "from yahoo_finance_api2.exceptions import YahooFinanceError\n",
    "import pandas as pd\n",
    "\n",
    "code = 3323 #ターゲット\n",
    "S_year = 5\n",
    "S_day = 1"
   ]
  },
  {
   "cell_type": "markdown",
   "metadata": {},
   "source": [
    "## 目的変数を作成する"
   ]
  },
  {
   "cell_type": "code",
   "execution_count": 3,
   "metadata": {},
   "outputs": [],
   "source": [
    "# 目的変数を作成する\n",
    "def kabuka():\n",
    "    company_code = str(code) + '.T'\n",
    "    my_share = share.Share(company_code)\n",
    "    symbol_data = None\n",
    "\n",
    "    try:\n",
    "        symbol_data = my_share.get_historical(share.PERIOD_TYPE_YEAR,\n",
    "                                              S_year,\n",
    "                                              share.FREQUENCY_TYPE_DAY,\n",
    "                                              S_day)\n",
    "    except YahooFinanceError as e:\n",
    "        print(e.message)\n",
    "        sys.exit(1)\n",
    "    # 株価をデータフレームに入れている\n",
    "    df_base = pd.DataFrame(symbol_data)\n",
    "    df_base = pd.DataFrame(symbol_data.values(), index=symbol_data.keys()).T\n",
    "    df_base.timestamp = pd.to_datetime(df_base.timestamp, unit='ms')\n",
    "    df_base.index = pd.DatetimeIndex(df_base.timestamp, name='timestamp').tz_localize('UTC').tz_convert('Asia/Tokyo')\n",
    "    #df_base = df_base.drop(['timestamp', 'open', 'high', 'low', 'volume'], axis=1)\n",
    "    \n",
    "    #df_base = df_base.rename(columns={'close':company_code + '対象'})\n",
    "    #df_base = df_base[:-1] #一番最後の行を削除\n",
    "    df_base = df_base.reset_index(drop=True)\n",
    "    \n",
    "    \n",
    "    return company_code, df_base"
   ]
  },
  {
   "cell_type": "code",
   "execution_count": 4,
   "metadata": {},
   "outputs": [
    {
     "name": "stdout",
     "output_type": "stream",
     "text": [
      "3323.T (1240, 6)\n"
     ]
    },
    {
     "data": {
      "text/html": [
       "<div>\n",
       "<style scoped>\n",
       "    .dataframe tbody tr th:only-of-type {\n",
       "        vertical-align: middle;\n",
       "    }\n",
       "\n",
       "    .dataframe tbody tr th {\n",
       "        vertical-align: top;\n",
       "    }\n",
       "\n",
       "    .dataframe thead th {\n",
       "        text-align: right;\n",
       "    }\n",
       "</style>\n",
       "<table border=\"1\" class=\"dataframe\">\n",
       "  <thead>\n",
       "    <tr style=\"text-align: right;\">\n",
       "      <th></th>\n",
       "      <th>timestamp</th>\n",
       "      <th>open</th>\n",
       "      <th>high</th>\n",
       "      <th>low</th>\n",
       "      <th>close</th>\n",
       "      <th>volume</th>\n",
       "    </tr>\n",
       "  </thead>\n",
       "  <tbody>\n",
       "    <tr>\n",
       "      <th>0</th>\n",
       "      <td>2016-06-01</td>\n",
       "      <td>66.0</td>\n",
       "      <td>67.0</td>\n",
       "      <td>66.0</td>\n",
       "      <td>67.0</td>\n",
       "      <td>171900.0</td>\n",
       "    </tr>\n",
       "    <tr>\n",
       "      <th>1</th>\n",
       "      <td>2016-06-02</td>\n",
       "      <td>67.0</td>\n",
       "      <td>68.0</td>\n",
       "      <td>65.0</td>\n",
       "      <td>66.0</td>\n",
       "      <td>834700.0</td>\n",
       "    </tr>\n",
       "    <tr>\n",
       "      <th>2</th>\n",
       "      <td>2016-06-03</td>\n",
       "      <td>66.0</td>\n",
       "      <td>68.0</td>\n",
       "      <td>65.0</td>\n",
       "      <td>68.0</td>\n",
       "      <td>883000.0</td>\n",
       "    </tr>\n",
       "    <tr>\n",
       "      <th>3</th>\n",
       "      <td>2016-06-06</td>\n",
       "      <td>66.0</td>\n",
       "      <td>68.0</td>\n",
       "      <td>65.0</td>\n",
       "      <td>66.0</td>\n",
       "      <td>815300.0</td>\n",
       "    </tr>\n",
       "    <tr>\n",
       "      <th>4</th>\n",
       "      <td>2016-06-07</td>\n",
       "      <td>67.0</td>\n",
       "      <td>67.0</td>\n",
       "      <td>65.0</td>\n",
       "      <td>66.0</td>\n",
       "      <td>466700.0</td>\n",
       "    </tr>\n",
       "  </tbody>\n",
       "</table>\n",
       "</div>"
      ],
      "text/plain": [
       "   timestamp  open  high   low  close    volume\n",
       "0 2016-06-01  66.0  67.0  66.0   67.0  171900.0\n",
       "1 2016-06-02  67.0  68.0  65.0   66.0  834700.0\n",
       "2 2016-06-03  66.0  68.0  65.0   68.0  883000.0\n",
       "3 2016-06-06  66.0  68.0  65.0   66.0  815300.0\n",
       "4 2016-06-07  67.0  67.0  65.0   66.0  466700.0"
      ]
     },
     "execution_count": 4,
     "metadata": {},
     "output_type": "execute_result"
    }
   ],
   "source": [
    "result = kabuka()\n",
    "print(str(result[0]), result[1].shape)\n",
    "\n",
    "# データフレームへもどす\n",
    "df_base = result[1]\n",
    "\n",
    "df_base.head()"
   ]
  },
  {
   "cell_type": "code",
   "execution_count": null,
   "metadata": {},
   "outputs": [],
   "source": []
  }
 ],
 "metadata": {
  "kernelspec": {
   "display_name": "Python 3",
   "language": "python",
   "name": "python3"
  },
  "language_info": {
   "codemirror_mode": {
    "name": "ipython",
    "version": 3
   },
   "file_extension": ".py",
   "mimetype": "text/x-python",
   "name": "python",
   "nbconvert_exporter": "python",
   "pygments_lexer": "ipython3",
   "version": "3.7.6"
  }
 },
 "nbformat": 4,
 "nbformat_minor": 4
}
